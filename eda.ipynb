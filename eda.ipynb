{
 "cells": [
  {
   "cell_type": "code",
   "execution_count": 1,
   "metadata": {},
   "outputs": [],
   "source": [
    "import pandas as pd\n",
    "pd.set_option('Display.max_columns', None)\n",
    "pd.set_option('Display.max_rows', None)"
   ]
  },
  {
   "cell_type": "code",
   "execution_count": 2,
   "metadata": {},
   "outputs": [],
   "source": [
    "data = pd.read_csv(\"tracking_week_1.csv\")"
   ]
  },
  {
   "cell_type": "code",
   "execution_count": 3,
   "metadata": {},
   "outputs": [],
   "source": [
    "import pyarrow as pa\n",
    "import pyarrow.parquet as pq\n",
    "\n",
    "# Convert the Pandas DataFrame to a PyArrow Table\n",
    "table = pa.Table.from_pandas(data)\n",
    "\n",
    "# Write the Table to a Parquet file\n",
    "pq.write_table(table, 'tracking_week_1.parquet')"
   ]
  },
  {
   "cell_type": "code",
   "execution_count": 10,
   "metadata": {},
   "outputs": [],
   "source": [
    "data['event'].unique()\n",
    "game_data = data[data['gameId'] == 2022090800]"
   ]
  },
  {
   "cell_type": "code",
   "execution_count": 27,
   "metadata": {},
   "outputs": [],
   "source": [
    "playId = 122\n",
    "game_play_df = game_data.query('playId == %s' % playId)"
   ]
  },
  {
   "cell_type": "code",
   "execution_count": 28,
   "metadata": {},
   "outputs": [
    {
     "data": {
      "text/plain": [
       "(759, 17)"
      ]
     },
     "execution_count": 28,
     "metadata": {},
     "output_type": "execute_result"
    }
   ],
   "source": [
    "game_play_df['frameId'].max()\n",
    "game_play_df.shape"
   ]
  },
  {
   "cell_type": "code",
   "execution_count": 29,
   "metadata": {},
   "outputs": [],
   "source": [
    "JAllen = game_play_df[game_play_df['displayName'] == \"Josh Allen\"]"
   ]
  },
  {
   "cell_type": "code",
   "execution_count": 31,
   "metadata": {},
   "outputs": [
    {
     "data": {
      "text/plain": [
       "array([  56,   80,  101,  122,  146,  167,  191,  212,  236,  299,  343,\n",
       "        364,  393,  414,  438,  486,  529,  569,  593,  617,  646,  692,\n",
       "        775,  818,  867,  896,  933,  980, 1030, 1102, 1187, 1230, 1254,\n",
       "       1286, 1334, 1358, 1385, 1406, 1563, 1712, 1736, 1757, 1836, 1946,\n",
       "       1967, 2043, 2072, 2093, 2137, 2163, 2184, 2208, 2232, 2307, 2336,\n",
       "       2360, 2464, 2485, 2506, 2527, 2551, 2572, 2599, 2648, 2688, 2712,\n",
       "       2755, 2815, 2839, 2860, 2884, 2934, 2958, 2979, 3092, 3121, 3145,\n",
       "       3166, 3190, 3262, 3283, 3304, 3341, 3362, 3383, 3407, 3431, 3489,\n",
       "       3513, 3576, 3636], dtype=int64)"
      ]
     },
     "execution_count": 31,
     "metadata": {},
     "output_type": "execute_result"
    }
   ],
   "source": [
    "game_data['playId'].unique()"
   ]
  },
  {
   "cell_type": "code",
   "execution_count": 32,
   "metadata": {},
   "outputs": [
    {
     "data": {
      "text/plain": [
       "array([nan, 'pass_arrived', 'pass_outcome_caught', 'tackle', 'run',\n",
       "       'first_contact', 'ball_snap', 'handoff', 'touchdown',\n",
       "       'out_of_bounds', 'man_in_motion', 'fumble', 'play_action',\n",
       "       'pass_forward', 'lateral', 'autoevent_passforward',\n",
       "       'autoevent_passinterrupted', 'line_set'], dtype=object)"
      ]
     },
     "execution_count": 32,
     "metadata": {},
     "output_type": "execute_result"
    }
   ],
   "source": [
    "game_data['event'].unique()"
   ]
  },
  {
   "cell_type": "code",
   "execution_count": null,
   "metadata": {},
   "outputs": [],
   "source": []
  }
 ],
 "metadata": {
  "kernelspec": {
   "display_name": "base",
   "language": "python",
   "name": "python3"
  },
  "language_info": {
   "codemirror_mode": {
    "name": "ipython",
    "version": 3
   },
   "file_extension": ".py",
   "mimetype": "text/x-python",
   "name": "python",
   "nbconvert_exporter": "python",
   "pygments_lexer": "ipython3",
   "version": "3.11.5"
  }
 },
 "nbformat": 4,
 "nbformat_minor": 2
}
